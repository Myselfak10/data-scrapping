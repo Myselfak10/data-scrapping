{
 "cells": [
  {
   "cell_type": "code",
   "execution_count": 2,
   "metadata": {},
   "outputs": [
    {
     "name": "stdout",
     "output_type": "stream",
     "text": [
      "Collecting selenium\n",
      "  Downloading selenium-4.29.0-py3-none-any.whl.metadata (7.1 kB)\n",
      "Requirement already satisfied: urllib3<3,>=1.26 in c:\\users\\administrator\\appdata\\local\\programs\\python\\python311\\lib\\site-packages (from urllib3[socks]<3,>=1.26->selenium) (2.2.3)\n",
      "Collecting trio~=0.17 (from selenium)\n",
      "  Downloading trio-0.29.0-py3-none-any.whl.metadata (8.5 kB)\n",
      "Collecting trio-websocket~=0.9 (from selenium)\n",
      "  Downloading trio_websocket-0.12.1-py3-none-any.whl.metadata (5.1 kB)\n",
      "Requirement already satisfied: certifi>=2021.10.8 in c:\\users\\administrator\\appdata\\local\\programs\\python\\python311\\lib\\site-packages (from selenium) (2024.8.30)\n",
      "Requirement already satisfied: typing_extensions~=4.9 in c:\\users\\administrator\\appdata\\local\\programs\\python\\python311\\lib\\site-packages (from selenium) (4.12.2)\n",
      "Requirement already satisfied: websocket-client~=1.8 in c:\\users\\administrator\\appdata\\local\\programs\\python\\python311\\lib\\site-packages (from selenium) (1.8.0)\n",
      "Requirement already satisfied: attrs>=23.2.0 in c:\\users\\administrator\\appdata\\local\\programs\\python\\python311\\lib\\site-packages (from trio~=0.17->selenium) (24.2.0)\n",
      "Collecting sortedcontainers (from trio~=0.17->selenium)\n",
      "  Downloading sortedcontainers-2.4.0-py2.py3-none-any.whl.metadata (10 kB)\n",
      "Requirement already satisfied: idna in c:\\users\\administrator\\appdata\\local\\programs\\python\\python311\\lib\\site-packages (from trio~=0.17->selenium) (3.10)\n",
      "Collecting outcome (from trio~=0.17->selenium)\n",
      "  Downloading outcome-1.3.0.post0-py2.py3-none-any.whl.metadata (2.6 kB)\n",
      "Requirement already satisfied: sniffio>=1.3.0 in c:\\users\\administrator\\appdata\\local\\programs\\python\\python311\\lib\\site-packages (from trio~=0.17->selenium) (1.3.1)\n",
      "Requirement already satisfied: cffi>=1.14 in c:\\users\\administrator\\appdata\\local\\programs\\python\\python311\\lib\\site-packages (from trio~=0.17->selenium) (1.17.1)\n",
      "Collecting wsproto>=0.14 (from trio-websocket~=0.9->selenium)\n",
      "  Downloading wsproto-1.2.0-py3-none-any.whl.metadata (5.6 kB)\n",
      "Collecting pysocks!=1.5.7,<2.0,>=1.5.6 (from urllib3[socks]<3,>=1.26->selenium)\n",
      "  Downloading PySocks-1.7.1-py3-none-any.whl.metadata (13 kB)\n",
      "Requirement already satisfied: pycparser in c:\\users\\administrator\\appdata\\local\\programs\\python\\python311\\lib\\site-packages (from cffi>=1.14->trio~=0.17->selenium) (2.22)\n",
      "Requirement already satisfied: h11<1,>=0.9.0 in c:\\users\\administrator\\appdata\\local\\programs\\python\\python311\\lib\\site-packages (from wsproto>=0.14->trio-websocket~=0.9->selenium) (0.14.0)\n",
      "Downloading selenium-4.29.0-py3-none-any.whl (9.5 MB)\n",
      "   ---------------------------------------- 0.0/9.5 MB ? eta -:--:--\n",
      "   --------------------------- ------------ 6.6/9.5 MB 40.1 MB/s eta 0:00:01\n",
      "   ---------------------------------------- 9.5/9.5 MB 39.5 MB/s eta 0:00:00\n",
      "Downloading trio-0.29.0-py3-none-any.whl (492 kB)\n",
      "Downloading trio_websocket-0.12.1-py3-none-any.whl (21 kB)\n",
      "Downloading outcome-1.3.0.post0-py2.py3-none-any.whl (10 kB)\n",
      "Downloading PySocks-1.7.1-py3-none-any.whl (16 kB)\n",
      "Downloading wsproto-1.2.0-py3-none-any.whl (24 kB)\n",
      "Downloading sortedcontainers-2.4.0-py2.py3-none-any.whl (29 kB)\n",
      "Installing collected packages: sortedcontainers, wsproto, pysocks, outcome, trio, trio-websocket, selenium\n",
      "Successfully installed outcome-1.3.0.post0 pysocks-1.7.1 selenium-4.29.0 sortedcontainers-2.4.0 trio-0.29.0 trio-websocket-0.12.1 wsproto-1.2.0\n",
      "Note: you may need to restart the kernel to use updated packages.\n"
     ]
    }
   ],
   "source": [
    "pip install selenium\n"
   ]
  },
  {
   "cell_type": "code",
   "execution_count": 4,
   "metadata": {},
   "outputs": [
    {
     "name": "stdout",
     "output_type": "stream",
     "text": [
      "Collecting webdriver-manager\n",
      "  Downloading webdriver_manager-4.0.2-py2.py3-none-any.whl.metadata (12 kB)\n",
      "Requirement already satisfied: requests in c:\\users\\administrator\\appdata\\local\\programs\\python\\python311\\lib\\site-packages (from webdriver-manager) (2.32.3)\n",
      "Collecting python-dotenv (from webdriver-manager)\n",
      "  Downloading python_dotenv-1.0.1-py3-none-any.whl.metadata (23 kB)\n",
      "Requirement already satisfied: packaging in c:\\users\\administrator\\appdata\\local\\programs\\python\\python311\\lib\\site-packages (from webdriver-manager) (24.2)\n",
      "Requirement already satisfied: charset-normalizer<4,>=2 in c:\\users\\administrator\\appdata\\local\\programs\\python\\python311\\lib\\site-packages (from requests->webdriver-manager) (3.4.0)\n",
      "Requirement already satisfied: idna<4,>=2.5 in c:\\users\\administrator\\appdata\\local\\programs\\python\\python311\\lib\\site-packages (from requests->webdriver-manager) (3.10)\n",
      "Requirement already satisfied: urllib3<3,>=1.21.1 in c:\\users\\administrator\\appdata\\local\\programs\\python\\python311\\lib\\site-packages (from requests->webdriver-manager) (2.2.3)\n",
      "Requirement already satisfied: certifi>=2017.4.17 in c:\\users\\administrator\\appdata\\local\\programs\\python\\python311\\lib\\site-packages (from requests->webdriver-manager) (2024.8.30)\n",
      "Downloading webdriver_manager-4.0.2-py2.py3-none-any.whl (27 kB)\n",
      "Downloading python_dotenv-1.0.1-py3-none-any.whl (19 kB)\n",
      "Installing collected packages: python-dotenv, webdriver-manager\n",
      "Successfully installed python-dotenv-1.0.1 webdriver-manager-4.0.2\n",
      "Note: you may need to restart the kernel to use updated packages.\n"
     ]
    }
   ],
   "source": [
    "pip install webdriver-manager\n"
   ]
  },
  {
   "cell_type": "code",
   "execution_count": 10,
   "metadata": {},
   "outputs": [
    {
     "name": "stdout",
     "output_type": "stream",
     "text": [
      "Scraping Page 1/27...\n",
      "Scraping Page 2/27...\n",
      "Scraping Page 3/27...\n",
      "Scraping Page 4/27...\n",
      "Scraping Page 5/27...\n",
      "Scraping Page 6/27...\n",
      "Scraping Page 7/27...\n",
      "Scraping Page 8/27...\n",
      "Scraping Page 9/27...\n",
      "Scraping Page 10/27...\n",
      "Scraping Page 11/27...\n",
      "Scraping Page 12/27...\n",
      "Scraping Page 13/27...\n",
      "Scraping Page 14/27...\n",
      "Scraping Page 15/27...\n",
      "Scraping Page 16/27...\n",
      "Scraping Page 17/27...\n",
      "Scraping Page 18/27...\n",
      "Scraping Page 19/27...\n",
      "Scraping Page 20/27...\n",
      "Scraping Page 21/27...\n",
      "Scraping Page 22/27...\n",
      "Scraping Page 23/27...\n",
      "Scraping Page 24/27...\n",
      "Scraping Page 25/27...\n",
      "Scraping Page 26/27...\n",
      "Scraping Page 27/27...\n",
      "✅ Job data saved successfully!\n"
     ]
    }
   ],
   "source": [
    "from selenium import webdriver\n",
    "from selenium.webdriver.common.by import By\n",
    "from selenium.webdriver.chrome.service import Service\n",
    "import time\n",
    "import pandas as pd\n",
    "from webdriver_manager.chrome import ChromeDriverManager\n",
    "\n",
    "# Set up Chrome driver\n",
    "driver = webdriver.Chrome(service=Service(ChromeDriverManager().install()))\n",
    "\n",
    "# Open the job listings website\n",
    "url = \"https://infopark.in/companies/job-search\"\n",
    "driver.get(url)\n",
    "time.sleep(3)  # Allow page to load\n",
    "\n",
    "# Store job data\n",
    "jobs = []\n",
    "\n",
    "# Get total pages dynamically\n",
    "try:\n",
    "    last_page_element = driver.find_elements(By.XPATH, \"//a[@class='page-numbers']\")[-2]  # Second last is the last number\n",
    "    total_pages = int(last_page_element.text.strip())\n",
    "except:\n",
    "    total_pages = 27  # Default if detection fails\n",
    "\n",
    "# Loop through pages\n",
    "for page in range(1, total_pages + 1):\n",
    "    print(f\"Scraping Page {page}/{total_pages}...\")\n",
    "\n",
    "    # Extract job listings\n",
    "    job_elements = driver.find_elements(By.XPATH, \"//table/tbody/tr\")\n",
    "    for job in job_elements:\n",
    "        details = job.find_elements(By.TAG_NAME, \"td\")\n",
    "        if len(details) >= 3:\n",
    "            job_title = details[0].text.strip()\n",
    "            company_name = details[1].text.strip()\n",
    "            last_date = details[2].text.strip()\n",
    "            jobs.append([job_title, company_name, last_date])\n",
    "\n",
    "    # Click on the next page number using JavaScript\n",
    "    if page < total_pages:\n",
    "        try:\n",
    "            next_page_button = driver.find_element(By.XPATH, f\"//a[text()='{page + 1}']\")\n",
    "            driver.execute_script(\"arguments[0].click();\", next_page_button)  # JavaScript click\n",
    "            time.sleep(3)  # Allow time for page load\n",
    "        except:\n",
    "            print(f\"⚠️ Could not navigate to page {page + 1}. Stopping early.\")\n",
    "            break\n",
    "\n",
    "# Close the browser\n",
    "driver.quit()\n",
    "\n",
    "# Convert to DataFrame\n",
    "df = pd.DataFrame(jobs, columns=[\"Job Title\", \"Company Name\", \"Last Date of Submission\"])\n",
    "\n",
    "# Save to Excel and CSV\n",
    "df.to_excel(r\"C:\\Users\\Administrator\\Downloads\\infopark_jobs.xlsx\", index=False)\n",
    "df.to_csv(r\"C:\\Users\\Administrator\\Downloads\\infopark_jobs.csv\", index=False)\n",
    "\n",
    "print(\"✅ Job data saved successfully!\")\n"
   ]
  }
 ],
 "metadata": {
  "kernelspec": {
   "display_name": "Python 3",
   "language": "python",
   "name": "python3"
  },
  "language_info": {
   "codemirror_mode": {
    "name": "ipython",
    "version": 3
   },
   "file_extension": ".py",
   "mimetype": "text/x-python",
   "name": "python",
   "nbconvert_exporter": "python",
   "pygments_lexer": "ipython3",
   "version": "3.11.5"
  }
 },
 "nbformat": 4,
 "nbformat_minor": 2
}
