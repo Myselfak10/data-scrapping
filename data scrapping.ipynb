{
 "cells": [
  {
   "cell_type": "code",
   "execution_count": 1,
   "metadata": {},
   "outputs": [],
   "source": [
    "import pandas as pd\n"
   ]
  },
  {
   "cell_type": "code",
   "execution_count": 2,
   "metadata": {},
   "outputs": [
    {
     "name": "stdout",
     "output_type": "stream",
     "text": [
      "Requirement already satisfied: lxml in c:\\users\\administrator\\appdata\\local\\programs\\python\\python311\\lib\\site-packages (5.3.0)\n",
      "Note: you may need to restart the kernel to use updated packages.\n"
     ]
    }
   ],
   "source": [
    "pip install lxml"
   ]
  },
  {
   "cell_type": "code",
   "execution_count": 3,
   "metadata": {},
   "outputs": [],
   "source": [
    "df = pd.read_html('https://en.wikipedia.org/wiki/Mammootty_filmography')[3]"
   ]
  },
  {
   "cell_type": "code",
   "execution_count": 4,
   "metadata": {},
   "outputs": [
    {
     "name": "stdout",
     "output_type": "stream",
     "text": [
      "     Year                          Title                     Role  \\\n",
      "0    1971       Anubhavangal Paalichakal  Background crowd member   \n",
      "1    1973                   Kaalachakram                  Boatman   \n",
      "2    1980         Vilkkanundu Swapnangal           Madhavan Kutty   \n",
      "3    1980                           Mela                  Vijayan   \n",
      "4    1981                      Sphodanam               Thankappan   \n",
      "..    ...                            ...                      ...   \n",
      "394  2024                          Turbo               Turbo Jose   \n",
      "395  2025  Dominic and the Ladies' Purse             C. I Dominic   \n",
      "396  2025                      Bazooka †              Vinod Menon   \n",
      "397  2025                  Megastar428 †                      TBA   \n",
      "398   TBA                    AJFC_MMMN †                      TBA   \n",
      "\n",
      "               Notes      Ref.  \n",
      "0         Uncredited      [15]  \n",
      "1         Uncredited      [16]  \n",
      "2                NaN  [17][18]  \n",
      "3                NaN      [19]  \n",
      "4                NaN       [4]  \n",
      "..               ...       ...  \n",
      "394    Also producer     [315]  \n",
      "395              NaN     [316]  \n",
      "396  Post-production     [317]  \n",
      "397          Filming     [318]  \n",
      "398          Filming     [319]  \n",
      "\n",
      "[399 rows x 5 columns]\n"
     ]
    }
   ],
   "source": [
    "print(df)"
   ]
  },
  {
   "cell_type": "code",
   "execution_count": 5,
   "metadata": {},
   "outputs": [
    {
     "name": "stdout",
     "output_type": "stream",
     "text": [
      "DataFrame saved as output.xlsx\n"
     ]
    }
   ],
   "source": [
    "\n",
    "# Save the DataFrame as an Excel file\n",
    "output_file_path = 'output.xlsx'\n",
    "df.to_excel(output_file_path, index=False)\n",
    "\n",
    "print(f\"DataFrame saved as {output_file_path}\")"
   ]
  }
 ],
 "metadata": {
  "kernelspec": {
   "display_name": "Python 3",
   "language": "python",
   "name": "python3"
  },
  "language_info": {
   "codemirror_mode": {
    "name": "ipython",
    "version": 3
   },
   "file_extension": ".py",
   "mimetype": "text/x-python",
   "name": "python",
   "nbconvert_exporter": "python",
   "pygments_lexer": "ipython3",
   "version": "3.11.2"
  }
 },
 "nbformat": 4,
 "nbformat_minor": 2
}
